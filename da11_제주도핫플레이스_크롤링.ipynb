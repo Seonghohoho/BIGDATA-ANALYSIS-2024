{
 "cells": [
  {
   "cell_type": "markdown",
   "metadata": {},
   "source": [
    "## 빅데이터 실습\n",
    "\n",
    "### 제주도 핫플레이스 웹크롤링\n",
    "\n",
    "#### 셀레니움 사용"
   ]
  },
  {
   "cell_type": "code",
   "execution_count": 5,
   "metadata": {},
   "outputs": [],
   "source": [
    "# 셀레니움 및 필요 라이브러리 사용등록\n",
    "from selenium import webdriver\n",
    "from selenium.webdriver.common.by import By\n",
    "from bs4 import BeautifulSoup\n",
    "import unicodedata # 유니코드 데이터 처리 모듈\n",
    "import re # 정규식 처리ㅜ 모듈\n",
    "import time"
   ]
  },
  {
   "cell_type": "code",
   "execution_count": 4,
   "metadata": {},
   "outputs": [],
   "source": [
    "driver = webdriver.Chrome()"
   ]
  },
  {
   "cell_type": "markdown",
   "metadata": {},
   "source": [
    "##### 인스타그램 접속"
   ]
  },
  {
   "cell_type": "code",
   "execution_count": 6,
   "metadata": {},
   "outputs": [],
   "source": [
    "# 인스타그램 접속\n",
    "driver.get('https://www.instagram.com')\n",
    "time.sleep(2.0)"
   ]
  },
  {
   "cell_type": "markdown",
   "metadata": {},
   "source": [
    "##### 자동 로그인 처리\n",
    "- 로그인 화면, ID,PW 입력하는 html name속성이 생김"
   ]
  },
  {
   "cell_type": "code",
   "execution_count": 16,
   "metadata": {},
   "outputs": [],
   "source": [
    "# 인스타그램 로그인\n",
    "\n",
    "# 인스타그램 사용자 이름(이메일) 정보 입력\n",
    "email = 'dataAnst'\n",
    "input_id = driver.find_element(By.NAME, 'username')\n",
    "input_id.clear()\n",
    "input_id.send_keys(email)\n",
    "\n",
    "# 비밀번호 입력\n",
    "password = 'qwer1234!' # 임시 비밀번호\n",
    "input_pw = driver.find_element(By.NAME, 'password')\n",
    "input_pw.clear()\n",
    "input_pw.send_keys(password)\n",
    "input_pw.submit()\n",
    "time.sleep(2.0)"
   ]
  },
  {
   "cell_type": "markdown",
   "metadata": {},
   "source": [
    "##### 태그로 검색 시 30개 이상 검색 불가\n",
    "- 해시태그 대신 한 페이지의 게시물로 대체"
   ]
  },
  {
   "cell_type": "code",
   "execution_count": 17,
   "metadata": {},
   "outputs": [],
   "source": [
    "## 검색결과 URL 함수\n",
    "def searchInstagram(word):\n",
    "    url = f'https://www.instagram.com/explore/tags/{word}'\n",
    "    return url"
   ]
  },
  {
   "cell_type": "code",
   "execution_count": 19,
   "metadata": {},
   "outputs": [],
   "source": [
    "## '24. 3. 13. 현재 해시태그로는 30개이상 검색 불가.\n",
    "driver.get(searchInstagram('제주도맛집'))"
   ]
  },
  {
   "cell_type": "code",
   "execution_count": 20,
   "metadata": {},
   "outputs": [],
   "source": [
    "## 제주나드리 검색\n",
    "# https://www.instagram.com/jeju__nadri/\n",
    "driver.get('https://www.instagram.com/jeju__nadri/')"
   ]
  },
  {
   "cell_type": "markdown",
   "metadata": {},
   "source": [
    "게시물 클릭 후 게시물 정보 가져오기"
   ]
  },
  {
   "cell_type": "code",
   "execution_count": 22,
   "metadata": {},
   "outputs": [],
   "source": [
    "# 첫번째 게시글 클릭\n",
    "first = driver.find_elements(By.CLASS_NAME, '_aagw')[0]\n",
    "first.click()\n",
    "time.sleep(2.0)"
   ]
  },
  {
   "cell_type": "code",
   "execution_count": null,
   "metadata": {},
   "outputs": [],
   "source": [
    "## 게시글 정보 가져오기 함수\n",
    "def getContents(driver):\n",
    "    pass"
   ]
  },
  {
   "cell_type": "code",
   "execution_count": null,
   "metadata": {},
   "outputs": [],
   "source": [
    "## 게시글 가져오기 로직"
   ]
  }
 ],
 "metadata": {
  "kernelspec": {
   "display_name": "Python 3",
   "language": "python",
   "name": "python3"
  },
  "language_info": {
   "codemirror_mode": {
    "name": "ipython",
    "version": 3
   },
   "file_extension": ".py",
   "mimetype": "text/x-python",
   "name": "python",
   "nbconvert_exporter": "python",
   "pygments_lexer": "ipython3",
   "version": "3.12.2"
  }
 },
 "nbformat": 4,
 "nbformat_minor": 2
}
